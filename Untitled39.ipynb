{
 "cells": [
  {
   "cell_type": "code",
   "execution_count": 27,
   "metadata": {
    "scrolled": false
   },
   "outputs": [
    {
     "data": {
      "text/plain": [
       "['2020-04-06 12:39:06 \\n',\n",
       " 'Current Boot Time = 1585729215.0\\n',\n",
       " '********************************************************************************************************************************************\\n',\n",
       " 'scpufreq(current=1500.0, min=0.0, max=1801.0)\\n',\n",
       " '********************************************************************************************************************************************\\n',\n",
       " 'sbattery(percent=47, secsleft=4294967295, power_plugged=False)\\n',\n",
       " '91382282.87234043Seconds/percent\\n',\n",
       " '********************************************************************************************************************************************\\n',\n",
       " 'svmem(total=8502812672, available=3917242368, percent=53.9, used=4585570304, free=3917242368)\\n',\n",
       " '********************************************************************************************************************************************\\n',\n",
       " 'connected To Internet\\n',\n",
       " '********************************************************************************************************************************************\\n',\n",
       " '2020-04-06 12:39:08 \\n',\n",
       " 'Current Boot Time = 1585729215.0\\n',\n",
       " '********************************************************************************************************************************************\\n',\n",
       " 'scpufreq(current=1500.0, min=0.0, max=1801.0)\\n',\n",
       " '********************************************************************************************************************************************\\n',\n",
       " 'sbattery(percent=47, secsleft=4294967295, power_plugged=False)\\n',\n",
       " '91382282.87234043Seconds/percent\\n',\n",
       " '********************************************************************************************************************************************\\n',\n",
       " 'svmem(total=8502812672, available=3927773184, percent=53.8, used=4575039488, free=3927773184)\\n',\n",
       " '********************************************************************************************************************************************\\n',\n",
       " 'connected To Internet\\n',\n",
       " '********************************************************************************************************************************************\\n']"
      ]
     },
     "execution_count": 27,
     "metadata": {},
     "output_type": "execute_result"
    }
   ],
   "source": [
    "import psutil\n",
    "\n",
    "file1 = open(\"Ai.txt\",\"a\")\n",
    "\n",
    "import datetime\n",
    "now = datetime.datetime.now()\n",
    "file1.write((str(now.strftime(\"%Y-%m-%d %H:%M:%S \\n\"))))\n",
    "#Boot Time Checking\n",
    "\n",
    "boot_time=psutil.boot_time()\n",
    "\n",
    "file1.write(\"Current Boot Time = \") \n",
    "file1.write(str(boot_time)+\"\\n\")\n",
    "\n",
    "file1.write(\"********************************************************************************************************************************************\\n\")\n",
    "\n",
    "#CPU FREQUENCY CHECKING\n",
    "\n",
    "freq=psutil.cpu_freq()\n",
    "file1.write(str(freq)+\"\\n\")\n",
    "file1.write(\"********************************************************************************************************************************************\\n\")\n",
    "#Battery\n",
    "\n",
    "battery=psutil.sensors_battery()\n",
    "file1.write(str(battery)+\"\\n\")\n",
    "if(battery.power_plugged==False):\n",
    "    secsperpercentage=battery.secsleft/battery.percent\n",
    "file1.write(str(secsperpercentage)+\"Seconds/percent\\n\")\n",
    "\n",
    "file1.write(\"********************************************************************************************************************************************\\n\")\n",
    "\n",
    "#Memory Space Checking\n",
    "\n",
    "file1.write(str(psutil.virtual_memory())+\"\\n\")\n",
    "\n",
    "file1.write(\"********************************************************************************************************************************************\\n\")\n",
    "\n",
    "#internet connection checking\n",
    "\n",
    "import urllib.request\n",
    "def connect():\n",
    "    try:\n",
    "        urllib.request.urlopen('http://google.com') #Python 3.x\n",
    "        return True\n",
    "    except:\n",
    "        return False\n",
    "if connect():\n",
    "    file1.write(\"connected To Internet\\n\")\n",
    "else:\n",
    "    file1.write(\"Not connected To Internet\\n\")\n",
    "file1.write(\"********************************************************************************************************************************************\\n\")\n",
    "\n",
    "file1.close() \n",
    "file1 = open(\"Ai.txt\",\"r\")\n",
    "file1.readlines()"
   ]
  },
  {
   "cell_type": "code",
   "execution_count": null,
   "metadata": {},
   "outputs": [],
   "source": []
  }
 ],
 "metadata": {
  "kernelspec": {
   "display_name": "Python 3",
   "language": "python",
   "name": "python3"
  },
  "language_info": {
   "codemirror_mode": {
    "name": "ipython",
    "version": 3
   },
   "file_extension": ".py",
   "mimetype": "text/x-python",
   "name": "python",
   "nbconvert_exporter": "python",
   "pygments_lexer": "ipython3",
   "version": "3.7.3"
  }
 },
 "nbformat": 4,
 "nbformat_minor": 2
}
